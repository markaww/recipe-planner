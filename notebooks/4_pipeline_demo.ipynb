{
 "cells": [
  {
   "cell_type": "code",
   "execution_count": 2,
   "metadata": {},
   "outputs": [],
   "source": [
    "import pandas as pd\n",
    "import numpy as np\n",
    "import json\n",
    "import random"
   ]
  },
  {
   "cell_type": "code",
   "execution_count": 3,
   "metadata": {},
   "outputs": [],
   "source": [
    "recipes = pd.read_csv('../data_exports/recipes_csv').replace('NaN', np.nan).drop(['Unnamed: 0'], axis=1)\n",
    "\n",
    "\n",
    "with open('../practice.json') as f: \n",
    "    preferences = json.load(f)\n",
    "    \n",
    "comidas_semana = recipes[(recipes.Categoria.isin(preferences['comidas_semana']['categoria']))\n",
    "                         & (recipes.Tiempo.isin(preferences['comidas_semana']['tiempo']))]\n",
    "\n",
    "cenas_semana = recipes[(recipes.Categoria.isin(preferences['cenas_semana']['categoria']))\n",
    "                         & (recipes.Tiempo.isin(preferences['cenas_semana']['tiempo']))]\n",
    "\n",
    "comidas_finde = recipes[(recipes.Categoria.isin(preferences['comidas_finde']['categoria']))\n",
    "                         & (recipes.Tiempo.isin(preferences['comidas_finde']['tiempo']))]\n",
    "\n",
    "cenas_finde = recipes[(recipes.Categoria.isin(preferences['cenas_finde']['categoria']))\n",
    "                         & (recipes.Tiempo.isin(preferences['cenas_finde']['tiempo']))]\n"
   ]
  },
  {
   "cell_type": "code",
   "execution_count": 71,
   "metadata": {},
   "outputs": [],
   "source": [
    "l_comida = comidas_semana.loc[np.random.choice(comidas_semana.index.values, 1)]\n",
    "m_comida = comidas_semana.loc[np.random.choice(comidas_semana.index.values, 1)]\n",
    "x_comida = comidas_semana.loc[np.random.choice(comidas_semana.index.values, 1)]\n",
    "j_comida = comidas_semana.loc[np.random.choice(comidas_semana.index.values, 1)]\n",
    "v_comida = comidas_semana.loc[np.random.choice(comidas_semana.index.values, 1)]\n",
    "\n",
    "s_comida = comidas_finde.loc[np.random.choice(comidas_finde.index.values, 1)]\n",
    "d_comida = comidas_finde.loc[np.random.choice(comidas_finde.index.values, 1)]\n",
    "\n",
    "l_cena = cenas_semana.loc[np.random.choice(cenas_semana.index.values, 1)]\n",
    "m_cena = cenas_semana.loc[np.random.choice(cenas_semana.index.values, 1)]\n",
    "x_cena = cenas_semana.loc[np.random.choice(cenas_semana.index.values, 1)]\n",
    "j_cena = cenas_semana.loc[np.random.choice(cenas_semana.index.values, 1)]\n",
    "v_cena = cenas_semana.loc[np.random.choice(cenas_semana.index.values, 1)]\n",
    "\n",
    "s_cena = cenas_finde.loc[np.random.choice(cenas_finde.index.values, 1)]\n",
    "d_cena = cenas_finde.loc[np.random.choice(cenas_finde.index.values, 1)]\n",
    "\n"
   ]
  },
  {
   "cell_type": "code",
   "execution_count": 1,
   "metadata": {},
   "outputs": [],
   "source": [
    "from dotenv import load_dotenv\n",
    "load_dotenv()\n",
    "import os\n",
    "import smtplib\n",
    "import schedule\n",
    "import time\n",
    "from email.mime.multipart import MIMEMultipart\n",
    "from email.mime.text import MIMEText"
   ]
  },
  {
   "cell_type": "code",
   "execution_count": 69,
   "metadata": {},
   "outputs": [],
   "source": [
    "msg = MIMEMultipart('alternative')\n",
    "msg['Subject'] = 'Meal plan'\n",
    "msg['From'] = os.getenv('EMAIL')\n",
    "msg['To'] = destination = os.getenv('DESTINATION')\n",
    "pwd = os.getenv('PASSWORD')\n",
    "\n",
    "\n",
    "text = f\"\"\"Hi! Here's your meal plan for this week:\"\"\"\n",
    "\n",
    "\n",
    "html = f\"\"\"\\\n",
    "<html>\n",
    "    <head></head>\n",
    "    <body>\n",
    "        <p>Hola!<br>\n",
    "           Aqui tienes tu seleccion de recetas para esta semana:<br>\n",
    "           <br>\n",
    "           LUNES<br>\n",
    "           - Comida: <a href='{l_comida.iloc[0,0]}'>{l_comida.iloc[0,1]}</a><br>\n",
    "           - Cena: <a href='{l_cena.iloc[0,0]}'>{l_cena.iloc[0,1]}</a><br>\n",
    "           <br>\n",
    "           MARTES<br>\n",
    "           - Comida: <a href='{m_comida.iloc[0,0]}'>{m_comida.iloc[0,1]}</a><br>\n",
    "           - Cena: <a href='{m_cena.iloc[0,0]}'>{m_cena.iloc[0,1]}</a><br>\n",
    "           <br>\n",
    "           MIERCOLES<br>\n",
    "           - Comida: <a href='{x_comida.iloc[0,0]}'>{x_comida.iloc[0,1]}</a><br>\n",
    "           - Cena: <a href='{x_cena.iloc[0,0]}'>{x_cena.iloc[0,1]}</a><br>\n",
    "           <br>\n",
    "           JUEVES<br>\n",
    "           - Comida: <a href='{j_comida.iloc[0,0]}'>{j_comida.iloc[0,1]}</a><br>\n",
    "           - Cena: <a href='{j_cena.iloc[0,0]}'>{j_cena.iloc[0,1]}</a><br>\n",
    "           <br>\n",
    "           VIERNES<br>\n",
    "           - Comida: <a href='{v_comida.iloc[0,0]}'>{v_comida.iloc[0,1]}</a><br>\n",
    "           - Cena: <a href='{v_cena.iloc[0,0]}'>{v_cena.iloc[0,1]}</a><br>\n",
    "           <br>\n",
    "           SABADO<br>\n",
    "           - Comida: <a href='{s_comida.iloc[0,0]}'>{s_comida.iloc[0,1]}</a><br>\n",
    "           - Cena: <a href='{s_cena.iloc[0,0]}'>{s_cena.iloc[0,1]}</a><br>\n",
    "           <br>\n",
    "           DOMINGO<br>\n",
    "           - Comida: <a href='{d_comida.iloc[0,0]}'>{d_comida.iloc[0,1]}</a><br>\n",
    "           - Cena: <a href='{d_cena.iloc[0,0]}'>{d_cena.iloc[0,1]}</a><br>\n",
    "           <br>\n",
    "           <br>\n",
    "           Necesitas estos ingredientes para tu plan:<br>\n",
    "           <br>\n",
    "           LUNES<br>\n",
    "           - Comida ({l_comida.iloc[0,1]}):<br>\n",
    "           {l_comida.iloc[0,8]}<br>\n",
    "           - Cena ({l_cena.iloc[0,1]}):<br>\n",
    "           {l_cena.iloc[0,8]}<br>\n",
    "           <br>\n",
    "           MARTES<br>\n",
    "           - Comida ({m_comida.iloc[0,1]}):<br>\n",
    "           {m_comida.iloc[0,8]}<br>\n",
    "           - Cena ({m_cena.iloc[0,1]}):<br>\n",
    "           {m_cena.iloc[0,8]}<br>\n",
    "           <br>\n",
    "           MIERCOLES<br>\n",
    "           - Comida ({x_comida.iloc[0,1]}):<br>\n",
    "           {x_comida.iloc[0,8]}<br>\n",
    "           - Cena ({x_cena.iloc[0,1]}):<br>\n",
    "           {x_cena.iloc[0,8]}<br>\n",
    "           <br>\n",
    "           JUEVES<br>\n",
    "           - Comida ({j_comida.iloc[0,1]}):<br>\n",
    "           {j_comida.iloc[0,8]}<br>\n",
    "           - Cena ({j_cena.iloc[0,1]}):<br>\n",
    "           {j_cena.iloc[0,8]}<br>\n",
    "           <br>\n",
    "           VIERNES<br>\n",
    "           - Comida ({v_comida.iloc[0,1]}):<br>\n",
    "           {v_comida.iloc[0,8]}<br>\n",
    "           - Cena ({v_cena.iloc[0,1]}):<br>\n",
    "           {v_cena.iloc[0,8]}<br>\n",
    "           <br>\n",
    "           SABADO<br>\n",
    "           - Comida ({s_comida.iloc[0,1]}):<br>\n",
    "           {s_comida.iloc[0,8]}<br>\n",
    "           - Cena ({s_cena.iloc[0,1]}):<br>\n",
    "           {s_cena.iloc[0,8]}<br>\n",
    "           <br>\n",
    "           DOMINGO<br>\n",
    "           - Comida ({d_comida.iloc[0,1]}):<br>\n",
    "           {d_comida.iloc[0,8]}<br>\n",
    "           - Cena ({d_cena.iloc[0,1]}):<br>\n",
    "           {d_cena.iloc[0,8]}<br>\n",
    "        </p>\n",
    "    </body>\n",
    "</html>        \n",
    "\n",
    "\"\"\"\n",
    "\n",
    "\n",
    "part1 = MIMEText(text, 'plain')\n",
    "part2 = MIMEText(html, 'html')\n",
    "\n",
    "msg.attach(part1)\n",
    "msg.attach(part2)\n",
    "\n",
    "def send_email():\n",
    "    with smtplib.SMTP('smtp.gmail.com',587) as smtp:\n",
    "        smtp.ehlo()\n",
    "        smtp.starttls()\n",
    "        smtp.ehlo()\n",
    "\n",
    "        smtp.login(msg['From'], pwd)\n",
    "\n",
    "        smtp.sendmail(msg['From'], msg['To'], msg.as_string())\n"
   ]
  },
  {
   "cell_type": "code",
   "execution_count": 74,
   "metadata": {},
   "outputs": [
    {
     "data": {
      "text/plain": [
       "'https://www.recetasgratis.net/receta-de-espinacas-a-la-crema-con-cubitos-de-papa-50911.html'"
      ]
     },
     "execution_count": 74,
     "metadata": {},
     "output_type": "execute_result"
    }
   ],
   "source": [
    "l_comida.iloc[0,0]"
   ]
  },
  {
   "cell_type": "code",
   "execution_count": 68,
   "metadata": {},
   "outputs": [],
   "source": [
    "send_email()\n"
   ]
  },
  {
   "cell_type": "code",
   "execution_count": null,
   "metadata": {},
   "outputs": [],
   "source": [
    "Alvaro: \"alvaro.gmf@gmail.com\"\n",
    "Emily \"emilypaz3012@gmail.com\"\n",
    "Manuel: \"manuelaquinop@gmail.com\"\n",
    "Miguel: \"jmiguelgonzalez1989@gmail.com\"\n",
    "Marina: \"m.fernandezban@gmail.com\"\n",
    "Alvaro: \"alvaro.rodriguezdelgado@gmail.com\"\n",
    "Alejandra: \"alejandramatias32@gmail.com\"\n",
    "Clara: \"claracarbocanals@gmail.com\"\n"
   ]
  },
  {
   "cell_type": "code",
   "execution_count": 2,
   "metadata": {},
   "outputs": [
    {
     "data": {
      "text/plain": [
       "'mwilliamson@windowslive.com, mark_kingson@hotmail.com'"
      ]
     },
     "execution_count": 2,
     "metadata": {},
     "output_type": "execute_result"
    }
   ],
   "source": [
    "os.getenv('MAILING_LIST')\n"
   ]
  },
  {
   "cell_type": "code",
   "execution_count": 3,
   "metadata": {},
   "outputs": [
    {
     "data": {
      "text/plain": [
       "['mwilliamson@windowslive.com', 'mark_kingson@hotmail.com']"
      ]
     },
     "execution_count": 3,
     "metadata": {},
     "output_type": "execute_result"
    }
   ],
   "source": [
    "os.getenv('MAILING_LIST').split(', ')"
   ]
  }
 ],
 "metadata": {
  "kernelspec": {
   "display_name": "Python [conda env:ironhack_env]",
   "language": "python",
   "name": "conda-env-ironhack_env-py"
  },
  "language_info": {
   "codemirror_mode": {
    "name": "ipython",
    "version": 3
   },
   "file_extension": ".py",
   "mimetype": "text/x-python",
   "name": "python",
   "nbconvert_exporter": "python",
   "pygments_lexer": "ipython3",
   "version": "3.7.8"
  }
 },
 "nbformat": 4,
 "nbformat_minor": 4
}
