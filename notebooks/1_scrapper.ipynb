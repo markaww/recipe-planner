{
 "cells": [
  {
   "cell_type": "code",
   "execution_count": 1,
   "metadata": {},
   "outputs": [],
   "source": [
    "import bs4\n",
    "import requests\n",
    "import re\n",
    "import pandas as pd"
   ]
  },
  {
   "cell_type": "code",
   "execution_count": 2,
   "metadata": {},
   "outputs": [],
   "source": [
    "cats = ['https://www.recetasgratis.net/Recetas-de-Arroces-cereales-listado_receta-9_',\n",
    "        'https://www.recetasgratis.net/Recetas-de-Aves-caza-listado_receta-11_',\n",
    "        'https://www.recetasgratis.net/Recetas-de-Carne-listado_receta-10_',\n",
    "        'https://www.recetasgratis.net/Recetas-de-Ensaladas-listado_receta-4_',\n",
    "        'https://www.recetasgratis.net/Recetas-de-Legumbres-listado_receta-8_',\n",
    "        'https://www.recetasgratis.net/Recetas-de-Pasta-listado_receta-5_',\n",
    "        'https://www.recetasgratis.net/Recetas-de-Pescado-listado_receta-12_',\n",
    "        'https://www.recetasgratis.net/Recetas-de-Sopa-listado_receta-6_',\n",
    "        'https://www.recetasgratis.net/Recetas-de-Verduras-listado_receta-7_']"
   ]
  },
  {
   "cell_type": "code",
   "execution_count": 3,
   "metadata": {},
   "outputs": [],
   "source": [
    "pages = [str(i) for i in range(1,51)]\n",
    "catpages_long = [(cat + page + '.html') for cat in cats for page in pages]\n"
   ]
  },
  {
   "cell_type": "code",
   "execution_count": 4,
   "metadata": {},
   "outputs": [
    {
     "data": {
      "text/plain": [
       "271"
      ]
     },
     "execution_count": 4,
     "metadata": {},
     "output_type": "execute_result"
    }
   ],
   "source": [
    "catpages_short = []\n",
    "\n",
    "for i in catpages_long:  \n",
    "    if len(requests.get(i).history) == 0:\n",
    "        catpages_short.append(i)\n",
    "    elif len(requests.get(i).history) > 0:\n",
    "        pass\n",
    "\n",
    "len(catpages_short)"
   ]
  },
  {
   "cell_type": "code",
   "execution_count": 5,
   "metadata": {},
   "outputs": [
    {
     "data": {
      "text/plain": [
       "10759"
      ]
     },
     "execution_count": 5,
     "metadata": {},
     "output_type": "execute_result"
    }
   ],
   "source": [
    "recipe_urls = []\n",
    "\n",
    "for page in catpages_short: \n",
    "    r = requests.get(page)\n",
    "    soup = bs4.BeautifulSoup(r.content, 'html.parser')\n",
    "    recipe = soup.find_all('a', attrs={'class': 'titulo titulo--resultado'})\n",
    "    for i in list(range(0,len(recipe))): \n",
    "        recipe_urls.append(recipe[i]['href'])\n",
    "        \n",
    "len(recipe_urls)  \n",
    "\n"
   ]
  },
  {
   "cell_type": "code",
   "execution_count": 79,
   "metadata": {},
   "outputs": [
    {
     "data": {
      "text/plain": [
       "74"
      ]
     },
     "execution_count": 79,
     "metadata": {},
     "output_type": "execute_result"
    }
   ],
   "source": [
    "catpages_test = ['https://www.recetasgratis.net/Recetas-de-Verduras-listado_receta-7_49.html',\n",
    "                 'https://www.recetasgratis.net/Recetas-de-Verduras-listado_receta-7_50.html']\n",
    "\n",
    "test_urls = []\n",
    "\n",
    "for page in catpages_test: \n",
    "    r = requests.get(page)\n",
    "    soup = bs4.BeautifulSoup(r.content, 'html.parser')\n",
    "    recipe = soup.find_all('a', attrs={'class': 'titulo titulo--resultado'})\n",
    "    for i in list(range(0,len(recipe))): \n",
    "        test_urls.append(recipe[i]['href'])\n",
    "        \n",
    "len(test_urls)   "
   ]
  },
  {
   "cell_type": "code",
   "execution_count": null,
   "metadata": {},
   "outputs": [],
   "source": []
  },
  {
   "cell_type": "code",
   "execution_count": null,
   "metadata": {},
   "outputs": [],
   "source": []
  },
  {
   "cell_type": "code",
   "execution_count": null,
   "metadata": {},
   "outputs": [],
   "source": []
  },
  {
   "cell_type": "code",
   "execution_count": 168,
   "metadata": {},
   "outputs": [],
   "source": [
    "url = 'https://www.recetasgratis.net/receta-de-solomillo-de-pavo-a-la-cerveza-74915.html'\n",
    "soup = bs4.BeautifulSoup(requests.get(url).content, 'html.parser')\n",
    "recipe = soup.find_all('div', attrs={'class': 'recipe-info'})"
   ]
  },
  {
   "cell_type": "code",
   "execution_count": null,
   "metadata": {},
   "outputs": [],
   "source": []
  },
  {
   "cell_type": "code",
   "execution_count": 187,
   "metadata": {},
   "outputs": [
    {
     "data": {
      "text/plain": [
       "'https://www.recetasgratis.net/receta-de-nuggets-de-pollo-al-horno-75064.html'"
      ]
     },
     "execution_count": 187,
     "metadata": {},
     "output_type": "execute_result"
    }
   ],
   "source": [
    "recipe_url_list = []\n",
    "recipe_url = requests.get(url).url\n",
    "recipe_url"
   ]
  },
  {
   "cell_type": "code",
   "execution_count": 170,
   "metadata": {},
   "outputs": [
    {
     "data": {
      "text/plain": [
       "'Solomillo de pavo a la cerveza'"
      ]
     },
     "execution_count": 170,
     "metadata": {},
     "output_type": "execute_result"
    }
   ],
   "source": [
    "name = soup.find_all('h1', attrs={'class': 'titulo titulo--articulo'})[0].text[10:]\n",
    "name"
   ]
  },
  {
   "cell_type": "code",
   "execution_count": 171,
   "metadata": {},
   "outputs": [
    {
     "data": {
      "text/plain": [
       "'Aves y caza'"
      ]
     },
     "execution_count": 171,
     "metadata": {},
     "output_type": "execute_result"
    }
   ],
   "source": [
    "categoria = re.findall('(^.+?)\\\\n', (soup.find_all('ul', attrs={'class': 'breadcrumb'}))[0].text[9:])[0]\n",
    "categoria"
   ]
  },
  {
   "cell_type": "code",
   "execution_count": 172,
   "metadata": {},
   "outputs": [
    {
     "data": {
      "text/plain": [
       "'2'"
      ]
     },
     "execution_count": 172,
     "metadata": {},
     "output_type": "execute_result"
    }
   ],
   "source": [
    "comensales = recipe[0].find('span', attrs={'class': 'property comensales'}).text[:-11]\n",
    "comensales"
   ]
  },
  {
   "cell_type": "code",
   "execution_count": 173,
   "metadata": {},
   "outputs": [
    {
     "data": {
      "text/plain": [
       "'30m'"
      ]
     },
     "execution_count": 173,
     "metadata": {},
     "output_type": "execute_result"
    }
   ],
   "source": [
    "duracion = recipe[0].find('span', attrs={'class': 'property duracion'}).text\n",
    "duracion"
   ]
  },
  {
   "cell_type": "code",
   "execution_count": 174,
   "metadata": {},
   "outputs": [
    {
     "data": {
      "text/plain": [
       "'Plato principal'"
      ]
     },
     "execution_count": 174,
     "metadata": {},
     "output_type": "execute_result"
    }
   ],
   "source": [
    "plato = recipe[0].find('span', attrs={'class': 'property para'}).text\n",
    "plato"
   ]
  },
  {
   "cell_type": "code",
   "execution_count": 175,
   "metadata": {},
   "outputs": [
    {
     "data": {
      "text/plain": [
       "'Dificultad muy baja'"
      ]
     },
     "execution_count": 175,
     "metadata": {},
     "output_type": "execute_result"
    }
   ],
   "source": [
    "dificultad = recipe[0].find('span', attrs={'class': 'property dificultad'}).text\n",
    "dificultad"
   ]
  },
  {
   "cell_type": "code",
   "execution_count": 176,
   "metadata": {},
   "outputs": [
    {
     "data": {
      "text/plain": [
       "'Coste barato, Popular en Otoño-Invierno, Salteado '"
      ]
     },
     "execution_count": 176,
     "metadata": {},
     "output_type": "execute_result"
    }
   ],
   "source": [
    "caracteristicas = (recipe[0].find('div', attrs={'class': 'properties inline'}).text)[30:]\n",
    "caracteristicas"
   ]
  },
  {
   "cell_type": "code",
   "execution_count": 177,
   "metadata": {},
   "outputs": [
    {
     "data": {
      "text/plain": [
       "'200 gramos de solomillo de pavo , 6 dientes de ajo pequeños , 1 pizca de sal al gusto , 1 pizca de pimienta al gusto , 100 gramos de harina de trigo , 20 mililitros de aceite , 150 mililitros de cerveza , 2 rodajas de naranja (opcional) , 2 hojas de laurel (opcional) '"
      ]
     },
     "execution_count": 177,
     "metadata": {},
     "output_type": "execute_result"
    }
   ],
   "source": [
    "ingredients = ', '.join(recipe[0].find('div', attrs={'class': 'ingredientes'}).text.split('\\n\\n\\n\\n\\n'))[2:].replace('\\n','')\n",
    "ingredients"
   ]
  },
  {
   "cell_type": "code",
   "execution_count": null,
   "metadata": {},
   "outputs": [],
   "source": []
  },
  {
   "cell_type": "code",
   "execution_count": 159,
   "metadata": {},
   "outputs": [],
   "source": []
  },
  {
   "cell_type": "code",
   "execution_count": 157,
   "metadata": {},
   "outputs": [],
   "source": [
    "recipe_dict = {\n",
    "    'URL': [url],\n",
    "    'Nombre': [name],\n",
    "    'Categoria': [categoria],\n",
    "    'Comensales': [comensales],\n",
    "    'Tiempo': [duracion],\n",
    "    'Tipo': [plato],\n",
    "    'Dificultad': [dificultad],\n",
    "    'Caracteristicas': [caracteristicas],\n",
    "    'Ingredientes':[ingredients],\n",
    "}"
   ]
  },
  {
   "cell_type": "code",
   "execution_count": 158,
   "metadata": {},
   "outputs": [
    {
     "data": {
      "text/html": [
       "<div>\n",
       "<style scoped>\n",
       "    .dataframe tbody tr th:only-of-type {\n",
       "        vertical-align: middle;\n",
       "    }\n",
       "\n",
       "    .dataframe tbody tr th {\n",
       "        vertical-align: top;\n",
       "    }\n",
       "\n",
       "    .dataframe thead th {\n",
       "        text-align: right;\n",
       "    }\n",
       "</style>\n",
       "<table border=\"1\" class=\"dataframe\">\n",
       "  <thead>\n",
       "    <tr style=\"text-align: right;\">\n",
       "      <th></th>\n",
       "      <th>URL</th>\n",
       "      <th>Nombre</th>\n",
       "      <th>Categoria</th>\n",
       "      <th>Comensales</th>\n",
       "      <th>Tiempo</th>\n",
       "      <th>Tipo</th>\n",
       "      <th>Dificultad</th>\n",
       "      <th>Caracteristicas</th>\n",
       "      <th>Ingredientes</th>\n",
       "    </tr>\n",
       "  </thead>\n",
       "  <tbody>\n",
       "    <tr>\n",
       "      <th>0</th>\n",
       "      <td>https://www.recetasgratis.net/receta-de-tortit...</td>\n",
       "      <td>Tortitas de pollo en salsa roja</td>\n",
       "      <td>Aves y caza</td>\n",
       "      <td>6</td>\n",
       "      <td>30m</td>\n",
       "      <td>Plato principal</td>\n",
       "      <td>Dificultad baja</td>\n",
       "      <td>Coste barato, Poco picante, Recetas mexicanas</td>\n",
       "      <td>1 pechuga de pollo cocida y desmenuzada , 4 ji...</td>\n",
       "    </tr>\n",
       "  </tbody>\n",
       "</table>\n",
       "</div>"
      ],
      "text/plain": [
       "                                                 URL  \\\n",
       "0  https://www.recetasgratis.net/receta-de-tortit...   \n",
       "\n",
       "                            Nombre    Categoria Comensales Tiempo  \\\n",
       "0  Tortitas de pollo en salsa roja  Aves y caza          6    30m   \n",
       "\n",
       "              Tipo       Dificultad  \\\n",
       "0  Plato principal  Dificultad baja   \n",
       "\n",
       "                                  Caracteristicas  \\\n",
       "0  Coste barato, Poco picante, Recetas mexicanas    \n",
       "\n",
       "                                        Ingredientes  \n",
       "0  1 pechuga de pollo cocida y desmenuzada , 4 ji...  "
      ]
     },
     "execution_count": 158,
     "metadata": {},
     "output_type": "execute_result"
    }
   ],
   "source": [
    "pd.DataFrame(recipe_dict)\n"
   ]
  },
  {
   "cell_type": "code",
   "execution_count": null,
   "metadata": {},
   "outputs": [],
   "source": []
  },
  {
   "cell_type": "code",
   "execution_count": 2,
   "metadata": {},
   "outputs": [],
   "source": [
    "test_list = ['https://www.recetasgratis.net/receta-de-tortitas-de-pollo-en-salsa-roja-75049.html',\n",
    "             'https://www.recetasgratis.net/receta-de-nuggets-de-pollo-al-horno-75064.html']"
   ]
  },
  {
   "cell_type": "code",
   "execution_count": 13,
   "metadata": {},
   "outputs": [
    {
     "data": {
      "text/plain": [
       "['4', '4']"
      ]
     },
     "execution_count": 13,
     "metadata": {},
     "output_type": "execute_result"
    }
   ],
   "source": [
    "for url in test_list:\n",
    "    soup = bs4.BeautifulSoup(requests.get(url).content, 'html.parser')\n",
    "    recipe = soup.find_all('div', attrs={'class': 'recipe-info'})\n",
    "\n",
    "    recipe_url_list = [requests.get(url).url for url in test_list]\n",
    "    name_list = [soup.find_all('h1', attrs={'class': 'titulo titulo--articulo'})[0].text[10:] for url in test_list]\n",
    "#     categoria_list = [re.findall('(^.+?)\\\\n', (soup.find_all('ul', attrs={'class': 'breadcrumb'}))[0].text[9:])[0] for url in test_list]\n",
    "#     comensales_list = [recipe[0].find('span', attrs={'class': 'property comensales'}).text[:-11] for url in test_list]\n",
    "    \n",
    "    \n",
    "comensales_list"
   ]
  }
 ],
 "metadata": {
  "kernelspec": {
   "display_name": "Python [conda env:ironhack_env]",
   "language": "python",
   "name": "conda-env-ironhack_env-py"
  },
  "language_info": {
   "codemirror_mode": {
    "name": "ipython",
    "version": 3
   },
   "file_extension": ".py",
   "mimetype": "text/x-python",
   "name": "python",
   "nbconvert_exporter": "python",
   "pygments_lexer": "ipython3",
   "version": "3.7.8"
  }
 },
 "nbformat": 4,
 "nbformat_minor": 4
}
