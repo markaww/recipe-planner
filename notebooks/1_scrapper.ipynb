{
 "cells": [
  {
   "cell_type": "code",
   "execution_count": 1,
   "metadata": {},
   "outputs": [],
   "source": [
    "import bs4\n",
    "import requests\n",
    "import re\n",
    "import pandas as pd"
   ]
  },
  {
   "cell_type": "markdown",
   "metadata": {},
   "source": [
    "### List of URLs Scrapping"
   ]
  },
  {
   "cell_type": "code",
   "execution_count": 5,
   "metadata": {},
   "outputs": [],
   "source": [
    "cats = ['https://www.recetasgratis.net/Recetas-de-Arroces-cereales-listado_receta-9_',\n",
    "        'https://www.recetasgratis.net/Recetas-de-Aves-caza-listado_receta-11_',\n",
    "        'https://www.recetasgratis.net/Recetas-de-Carne-listado_receta-10_',\n",
    "        'https://www.recetasgratis.net/Recetas-de-Ensaladas-listado_receta-4_',\n",
    "        'https://www.recetasgratis.net/Recetas-de-Legumbres-listado_receta-8_',\n",
    "        'https://www.recetasgratis.net/Recetas-de-Pasta-listado_receta-5_',\n",
    "        'https://www.recetasgratis.net/Recetas-de-Pescado-listado_receta-12_',\n",
    "        'https://www.recetasgratis.net/Recetas-de-Sopa-listado_receta-6_',\n",
    "        'https://www.recetasgratis.net/Recetas-de-Verduras-listado_receta-7_']"
   ]
  },
  {
   "cell_type": "code",
   "execution_count": 6,
   "metadata": {},
   "outputs": [],
   "source": [
    "pages = [str(i) for i in range(1,51)]\n",
    "catpages_long = [(cat + page + '.html') for cat in cats for page in pages]\n"
   ]
  },
  {
   "cell_type": "code",
   "execution_count": 7,
   "metadata": {},
   "outputs": [
    {
     "data": {
      "text/plain": [
       "271"
      ]
     },
     "execution_count": 7,
     "metadata": {},
     "output_type": "execute_result"
    }
   ],
   "source": [
    "catpages_short = []\n",
    "\n",
    "for i in catpages_long:  \n",
    "    if len(requests.get(i).history) == 0:\n",
    "        catpages_short.append(i)\n",
    "    elif len(requests.get(i).history) > 0:\n",
    "        pass\n",
    "\n",
    "len(catpages_short)"
   ]
  },
  {
   "cell_type": "code",
   "execution_count": 8,
   "metadata": {},
   "outputs": [
    {
     "data": {
      "text/plain": [
       "10759"
      ]
     },
     "execution_count": 8,
     "metadata": {},
     "output_type": "execute_result"
    }
   ],
   "source": [
    "recipe_urls = []\n",
    "\n",
    "for page in catpages_short: \n",
    "    r = requests.get(page)\n",
    "    soup = bs4.BeautifulSoup(r.content, 'html.parser')\n",
    "    recipe = soup.find_all('a', attrs={'class': 'titulo titulo--resultado'})\n",
    "    for i in list(range(0,len(recipe))): \n",
    "        recipe_urls.append(recipe[i]['href'])\n",
    "        \n",
    "len(recipe_urls)  \n",
    "\n"
   ]
  },
  {
   "cell_type": "markdown",
   "metadata": {},
   "source": [
    "### Recipe Feature Scrapping"
   ]
  },
  {
   "cell_type": "code",
   "execution_count": 168,
   "metadata": {},
   "outputs": [],
   "source": [
    "url = 'https://www.recetasgratis.net/receta-de-solomillo-de-pavo-a-la-cerveza-74915.html'\n",
    "soup = bs4.BeautifulSoup(requests.get(url).content, 'html.parser')\n",
    "recipe = soup.find_all('div', attrs={'class': 'recipe-info'})"
   ]
  },
  {
   "cell_type": "code",
   "execution_count": null,
   "metadata": {},
   "outputs": [],
   "source": []
  },
  {
   "cell_type": "code",
   "execution_count": 187,
   "metadata": {},
   "outputs": [
    {
     "data": {
      "text/plain": [
       "'https://www.recetasgratis.net/receta-de-nuggets-de-pollo-al-horno-75064.html'"
      ]
     },
     "execution_count": 187,
     "metadata": {},
     "output_type": "execute_result"
    }
   ],
   "source": [
    "recipe_url = requests.get(url).url\n",
    "recipe_url"
   ]
  },
  {
   "cell_type": "code",
   "execution_count": 170,
   "metadata": {},
   "outputs": [
    {
     "data": {
      "text/plain": [
       "'Solomillo de pavo a la cerveza'"
      ]
     },
     "execution_count": 170,
     "metadata": {},
     "output_type": "execute_result"
    }
   ],
   "source": [
    "name = soup.find_all('h1', attrs={'class': 'titulo titulo--articulo'})[0].text[10:]\n",
    "name"
   ]
  },
  {
   "cell_type": "code",
   "execution_count": 171,
   "metadata": {},
   "outputs": [
    {
     "data": {
      "text/plain": [
       "'Aves y caza'"
      ]
     },
     "execution_count": 171,
     "metadata": {},
     "output_type": "execute_result"
    }
   ],
   "source": [
    "categoria = re.findall('(^.+?)\\\\n', (soup.find_all('ul', attrs={'class': 'breadcrumb'}))[0].text[9:])[0]\n",
    "categoria"
   ]
  },
  {
   "cell_type": "code",
   "execution_count": 172,
   "metadata": {},
   "outputs": [
    {
     "data": {
      "text/plain": [
       "'2'"
      ]
     },
     "execution_count": 172,
     "metadata": {},
     "output_type": "execute_result"
    }
   ],
   "source": [
    "comensales = recipe[0].find('span', attrs={'class': 'property comensales'}).text[:-11]\n",
    "comensales"
   ]
  },
  {
   "cell_type": "code",
   "execution_count": 173,
   "metadata": {},
   "outputs": [
    {
     "data": {
      "text/plain": [
       "'30m'"
      ]
     },
     "execution_count": 173,
     "metadata": {},
     "output_type": "execute_result"
    }
   ],
   "source": [
    "duracion = recipe[0].find('span', attrs={'class': 'property duracion'}).text\n",
    "duracion"
   ]
  },
  {
   "cell_type": "code",
   "execution_count": 174,
   "metadata": {},
   "outputs": [
    {
     "data": {
      "text/plain": [
       "'Plato principal'"
      ]
     },
     "execution_count": 174,
     "metadata": {},
     "output_type": "execute_result"
    }
   ],
   "source": [
    "plato = recipe[0].find('span', attrs={'class': 'property para'}).text\n",
    "plato"
   ]
  },
  {
   "cell_type": "code",
   "execution_count": 175,
   "metadata": {},
   "outputs": [
    {
     "data": {
      "text/plain": [
       "'Dificultad muy baja'"
      ]
     },
     "execution_count": 175,
     "metadata": {},
     "output_type": "execute_result"
    }
   ],
   "source": [
    "dificultad = recipe[0].find('span', attrs={'class': 'property dificultad'}).text\n",
    "dificultad"
   ]
  },
  {
   "cell_type": "code",
   "execution_count": 176,
   "metadata": {},
   "outputs": [
    {
     "data": {
      "text/plain": [
       "'Coste barato, Popular en Otoño-Invierno, Salteado '"
      ]
     },
     "execution_count": 176,
     "metadata": {},
     "output_type": "execute_result"
    }
   ],
   "source": [
    "caracteristicas = (recipe[0].find('div', attrs={'class': 'properties inline'}).text)[30:]\n",
    "caracteristicas"
   ]
  },
  {
   "cell_type": "code",
   "execution_count": 177,
   "metadata": {},
   "outputs": [
    {
     "data": {
      "text/plain": [
       "'200 gramos de solomillo de pavo , 6 dientes de ajo pequeños , 1 pizca de sal al gusto , 1 pizca de pimienta al gusto , 100 gramos de harina de trigo , 20 mililitros de aceite , 150 mililitros de cerveza , 2 rodajas de naranja (opcional) , 2 hojas de laurel (opcional) '"
      ]
     },
     "execution_count": 177,
     "metadata": {},
     "output_type": "execute_result"
    }
   ],
   "source": [
    "ingredients = ', '.join(recipe[0].find('div', attrs={'class': 'ingredientes'}).text.split('\\n\\n\\n\\n\\n'))[2:].replace('\\n','')\n",
    "ingredients"
   ]
  },
  {
   "cell_type": "markdown",
   "metadata": {},
   "source": [
    "### DataFrame composition and export"
   ]
  },
  {
   "cell_type": "code",
   "execution_count": 2,
   "metadata": {},
   "outputs": [],
   "source": [
    "test_list = ['https://www.recetasgratis.net/receta-de-tortitas-de-pollo-en-salsa-roja-75049.html',\n",
    "             'https://www.recetasgratis.net/receta-de-habas-a-la-catalana-75056.html',\n",
    "            'https://www.recetasgratis.net/receta-de-fabes-con-almejas-de-la-abuela-74401.html']"
   ]
  },
  {
   "cell_type": "code",
   "execution_count": 9,
   "metadata": {},
   "outputs": [
    {
     "data": {
      "text/html": [
       "<div>\n",
       "<style scoped>\n",
       "    .dataframe tbody tr th:only-of-type {\n",
       "        vertical-align: middle;\n",
       "    }\n",
       "\n",
       "    .dataframe tbody tr th {\n",
       "        vertical-align: top;\n",
       "    }\n",
       "\n",
       "    .dataframe thead th {\n",
       "        text-align: right;\n",
       "    }\n",
       "</style>\n",
       "<table border=\"1\" class=\"dataframe\">\n",
       "  <thead>\n",
       "    <tr style=\"text-align: right;\">\n",
       "      <th></th>\n",
       "      <th>URL</th>\n",
       "      <th>Nombre</th>\n",
       "      <th>Categoria</th>\n",
       "      <th>Comensales</th>\n",
       "      <th>Tiempo</th>\n",
       "      <th>Tipo</th>\n",
       "      <th>Dificultad</th>\n",
       "      <th>Caracteristicas</th>\n",
       "      <th>Ingredientes</th>\n",
       "    </tr>\n",
       "  </thead>\n",
       "  <tbody>\n",
       "    <tr>\n",
       "      <th>0</th>\n",
       "      <td>https://www.recetasgratis.net/receta-de-torrej...</td>\n",
       "      <td>Torrejas de arroz</td>\n",
       "      <td>Arroces y cereales</td>\n",
       "      <td>3</td>\n",
       "      <td>30m</td>\n",
       "      <td>Plato principal</td>\n",
       "      <td>Dificultad baja</td>\n",
       "      <td>Coste barato, Recomendada para vegetarianos, R...</td>\n",
       "      <td>1 taza de arroz cocido (0,5 taza de arroz en c...</td>\n",
       "    </tr>\n",
       "    <tr>\n",
       "      <th>1</th>\n",
       "      <td>https://www.recetasgratis.net/receta-de-arroz-...</td>\n",
       "      <td>Arroz con bacalao y gambas</td>\n",
       "      <td>Arroces y cereales</td>\n",
       "      <td>3</td>\n",
       "      <td>1h 30m</td>\n",
       "      <td>Plato principal</td>\n",
       "      <td>Dificultad baja</td>\n",
       "      <td>Coste barato, Ideal acompañar con vino blanco,...</td>\n",
       "      <td>2 lomos de bacalao limpios, 1½ litros de caldo...</td>\n",
       "    </tr>\n",
       "    <tr>\n",
       "      <th>2</th>\n",
       "      <td>https://www.recetasgratis.net/receta-de-pastel...</td>\n",
       "      <td>Pastel de arroz coreano</td>\n",
       "      <td>Arroces y cereales</td>\n",
       "      <td>4</td>\n",
       "      <td>30m</td>\n",
       "      <td>NaN</td>\n",
       "      <td>Dificultad muy baja</td>\n",
       "      <td>Coste barato, Receta sin gluten, Receta tradic...</td>\n",
       "      <td>180 gramos de harina de arroz , 100 centímetro...</td>\n",
       "    </tr>\n",
       "    <tr>\n",
       "      <th>3</th>\n",
       "      <td>https://www.recetasgratis.net/receta-de-risott...</td>\n",
       "      <td>Risotto de champiñones</td>\n",
       "      <td>Arroces y cereales</td>\n",
       "      <td>4</td>\n",
       "      <td>45m</td>\n",
       "      <td>NaN</td>\n",
       "      <td>Dificultad media</td>\n",
       "      <td>Coste barato</td>\n",
       "      <td>350 gramos de arroz arborio , 150 gramos de ch...</td>\n",
       "    </tr>\n",
       "    <tr>\n",
       "      <th>4</th>\n",
       "      <td>https://www.recetasgratis.net/receta-de-arroz-...</td>\n",
       "      <td>Arroz con sepia y gambas</td>\n",
       "      <td>Arroces y cereales</td>\n",
       "      <td>4</td>\n",
       "      <td>45m</td>\n",
       "      <td>Plato principal</td>\n",
       "      <td>Dificultad media</td>\n",
       "      <td>Coste medio</td>\n",
       "      <td>300 gramos de arroz redondo o bomba , 1 litro ...</td>\n",
       "    </tr>\n",
       "    <tr>\n",
       "      <th>...</th>\n",
       "      <td>...</td>\n",
       "      <td>...</td>\n",
       "      <td>...</td>\n",
       "      <td>...</td>\n",
       "      <td>...</td>\n",
       "      <td>...</td>\n",
       "      <td>...</td>\n",
       "      <td>...</td>\n",
       "      <td>...</td>\n",
       "    </tr>\n",
       "    <tr>\n",
       "      <th>10754</th>\n",
       "      <td>https://www.recetasgratis.net/receta-de-rollo-...</td>\n",
       "      <td>Rollo de espinacas con queso ricotta facil</td>\n",
       "      <td>Verduras</td>\n",
       "      <td>NaN</td>\n",
       "      <td>NaN</td>\n",
       "      <td>NaN</td>\n",
       "      <td>NaN</td>\n",
       "      <td>NaN</td>\n",
       "      <td>4-6 cucharadas de queso parmesano rallado, 500...</td>\n",
       "    </tr>\n",
       "    <tr>\n",
       "      <th>10755</th>\n",
       "      <td>https://www.recetasgratis.net/receta-de-palta-...</td>\n",
       "      <td>Palta rellena con pollo</td>\n",
       "      <td>Verduras</td>\n",
       "      <td>NaN</td>\n",
       "      <td>NaN</td>\n",
       "      <td>NaN</td>\n",
       "      <td>NaN</td>\n",
       "      <td>NaN</td>\n",
       "      <td>1 palta, 1 pechuga de pollo, 1 zanahoria, 1 ce...</td>\n",
       "    </tr>\n",
       "    <tr>\n",
       "      <th>10756</th>\n",
       "      <td>https://www.recetasgratis.net/receta-de-alcach...</td>\n",
       "      <td>Alcachofas glaseadas</td>\n",
       "      <td>Verduras</td>\n",
       "      <td>NaN</td>\n",
       "      <td>NaN</td>\n",
       "      <td>NaN</td>\n",
       "      <td>NaN</td>\n",
       "      <td>NaN</td>\n",
       "      <td>6 fondos de alcachofa, 300 gr. de agua mineral...</td>\n",
       "    </tr>\n",
       "    <tr>\n",
       "      <th>10757</th>\n",
       "      <td>https://www.recetasgratis.net/receta-de-aguaca...</td>\n",
       "      <td>Aguacate y menta</td>\n",
       "      <td>Verduras</td>\n",
       "      <td>NaN</td>\n",
       "      <td>NaN</td>\n",
       "      <td>NaN</td>\n",
       "      <td>NaN</td>\n",
       "      <td>NaN</td>\n",
       "      <td>½ taza de la lechera, 1 taza de leche entera, ...</td>\n",
       "    </tr>\n",
       "    <tr>\n",
       "      <th>10758</th>\n",
       "      <td>https://www.recetasgratis.net/receta-de-aguaca...</td>\n",
       "      <td>Aguacate y plátano</td>\n",
       "      <td>Verduras</td>\n",
       "      <td>NaN</td>\n",
       "      <td>NaN</td>\n",
       "      <td>NaN</td>\n",
       "      <td>NaN</td>\n",
       "      <td>NaN</td>\n",
       "      <td>1 aguacate grande, 1 plátano, 2 cucharadas caf...</td>\n",
       "    </tr>\n",
       "  </tbody>\n",
       "</table>\n",
       "<p>10759 rows × 9 columns</p>\n",
       "</div>"
      ],
      "text/plain": [
       "                                                     URL  \\\n",
       "0      https://www.recetasgratis.net/receta-de-torrej...   \n",
       "1      https://www.recetasgratis.net/receta-de-arroz-...   \n",
       "2      https://www.recetasgratis.net/receta-de-pastel...   \n",
       "3      https://www.recetasgratis.net/receta-de-risott...   \n",
       "4      https://www.recetasgratis.net/receta-de-arroz-...   \n",
       "...                                                  ...   \n",
       "10754  https://www.recetasgratis.net/receta-de-rollo-...   \n",
       "10755  https://www.recetasgratis.net/receta-de-palta-...   \n",
       "10756  https://www.recetasgratis.net/receta-de-alcach...   \n",
       "10757  https://www.recetasgratis.net/receta-de-aguaca...   \n",
       "10758  https://www.recetasgratis.net/receta-de-aguaca...   \n",
       "\n",
       "                                           Nombre           Categoria  \\\n",
       "0                               Torrejas de arroz  Arroces y cereales   \n",
       "1                      Arroz con bacalao y gambas  Arroces y cereales   \n",
       "2                         Pastel de arroz coreano  Arroces y cereales   \n",
       "3                          Risotto de champiñones  Arroces y cereales   \n",
       "4                        Arroz con sepia y gambas  Arroces y cereales   \n",
       "...                                           ...                 ...   \n",
       "10754  Rollo de espinacas con queso ricotta facil            Verduras   \n",
       "10755                     Palta rellena con pollo            Verduras   \n",
       "10756                        Alcachofas glaseadas            Verduras   \n",
       "10757                            Aguacate y menta            Verduras   \n",
       "10758                          Aguacate y plátano            Verduras   \n",
       "\n",
       "      Comensales  Tiempo             Tipo           Dificultad  \\\n",
       "0              3     30m  Plato principal      Dificultad baja   \n",
       "1              3  1h 30m  Plato principal      Dificultad baja   \n",
       "2              4     30m              NaN  Dificultad muy baja   \n",
       "3              4     45m              NaN     Dificultad media   \n",
       "4              4     45m  Plato principal     Dificultad media   \n",
       "...          ...     ...              ...                  ...   \n",
       "10754        NaN     NaN              NaN                  NaN   \n",
       "10755        NaN     NaN              NaN                  NaN   \n",
       "10756        NaN     NaN              NaN                  NaN   \n",
       "10757        NaN     NaN              NaN                  NaN   \n",
       "10758        NaN     NaN              NaN                  NaN   \n",
       "\n",
       "                                         Caracteristicas  \\\n",
       "0      Coste barato, Recomendada para vegetarianos, R...   \n",
       "1      Coste barato, Ideal acompañar con vino blanco,...   \n",
       "2      Coste barato, Receta sin gluten, Receta tradic...   \n",
       "3                                          Coste barato    \n",
       "4                                           Coste medio    \n",
       "...                                                  ...   \n",
       "10754                                                NaN   \n",
       "10755                                                NaN   \n",
       "10756                                                NaN   \n",
       "10757                                                NaN   \n",
       "10758                                                NaN   \n",
       "\n",
       "                                            Ingredientes  \n",
       "0      1 taza de arroz cocido (0,5 taza de arroz en c...  \n",
       "1      2 lomos de bacalao limpios, 1½ litros de caldo...  \n",
       "2      180 gramos de harina de arroz , 100 centímetro...  \n",
       "3      350 gramos de arroz arborio , 150 gramos de ch...  \n",
       "4      300 gramos de arroz redondo o bomba , 1 litro ...  \n",
       "...                                                  ...  \n",
       "10754  4-6 cucharadas de queso parmesano rallado, 500...  \n",
       "10755  1 palta, 1 pechuga de pollo, 1 zanahoria, 1 ce...  \n",
       "10756  6 fondos de alcachofa, 300 gr. de agua mineral...  \n",
       "10757  ½ taza de la lechera, 1 taza de leche entera, ...  \n",
       "10758  1 aguacate grande, 1 plátano, 2 cucharadas caf...  \n",
       "\n",
       "[10759 rows x 9 columns]"
      ]
     },
     "execution_count": 9,
     "metadata": {},
     "output_type": "execute_result"
    }
   ],
   "source": [
    "recipe_url_list = []\n",
    "name_list = []\n",
    "categoria_list = []\n",
    "comensales_list = []\n",
    "duracion_list = []\n",
    "plato_list = []\n",
    "dificultad_list = []\n",
    "caracteristicas_list = []\n",
    "ingredientes_list = []\n",
    "\n",
    "\n",
    "for url in recipe_urls:\n",
    "    soup = bs4.BeautifulSoup(requests.get(url).content, 'html.parser')\n",
    "    recipe = soup.find_all('div', attrs={'class': 'recipe-info'})\n",
    "    \n",
    "    try:\n",
    "        recipe_url_list.append(requests.get(url).url)\n",
    "    except: \n",
    "        recipe_url_list.append('NaN')\n",
    "        \n",
    "    try:\n",
    "        name_list.append(soup.find_all('h1', attrs={'class': 'titulo titulo--articulo'})[0].text[10:])\n",
    "    except:\n",
    "        name_list.append('NaN')\n",
    "        \n",
    "    try:\n",
    "        categoria_list.append(re.findall('(^.+?)\\\\n', (soup.find_all('ul', attrs={'class': 'breadcrumb'}))[0].text[9:])[0])\n",
    "    except:\n",
    "        categoria_list.append('NaN')\n",
    "        \n",
    "    try:\n",
    "        comensales_list.append(recipe[0].find('span', attrs={'class': 'property comensales'}).text[:-11])\n",
    "    except: \n",
    "        comensales_list.append('NaN')\n",
    "        \n",
    "    try:\n",
    "        duracion_list.append(recipe[0].find('span', attrs={'class': 'property duracion'}).text)\n",
    "    except: \n",
    "        duracion_list.append('NaN')\n",
    "        \n",
    "    try:\n",
    "        plato_list.append(recipe[0].find('span', attrs={'class': 'property para'}).text)\n",
    "    except:\n",
    "        plato_list.append('NaN')\n",
    "        \n",
    "    try:\n",
    "        dificultad_list.append(recipe[0].find('span', attrs={'class': 'property dificultad'}).text)\n",
    "    except:\n",
    "        dificultad_list.append('NaN')\n",
    "        \n",
    "    try:\n",
    "        caracteristicas_list.append((recipe[0].find('div', attrs={'class': 'properties inline'}).text)[30:])\n",
    "    except:\n",
    "        caracteristicas_list.append('NaN')\n",
    "        \n",
    "    try:\n",
    "        ingredientes_list.append(', '.join(recipe[0].find('div', attrs={'class': 'ingredientes'}).text.split('\\n\\n\\n\\n\\n'))[2:].replace('\\n',''))\n",
    "    except: \n",
    "        ingredientes_list.append('NaN')\n",
    "\n",
    "recipe_dict = {\n",
    "    'URL': recipe_url_list,\n",
    "    'Nombre': name_list,\n",
    "    'Categoria': categoria_list,\n",
    "    'Comensales': comensales_list,\n",
    "    'Tiempo': duracion_list,\n",
    "    'Tipo': plato_list,\n",
    "    'Dificultad': dificultad_list,\n",
    "    'Caracteristicas': caracteristicas_list,\n",
    "    'Ingredientes': ingredientes_list,\n",
    "}\n",
    "\n",
    "recipes_df = pd.DataFrame(recipe_dict)\n",
    "recipes_df.to_csv('../data_exports/recipes_csv')\n",
    "recipes_df"
   ]
  },
  {
   "cell_type": "code",
   "execution_count": 25,
   "metadata": {},
   "outputs": [
    {
     "data": {
      "text/plain": [
       "Verduras              1994\n",
       "Carne                 1933\n",
       "Aves y caza           1435\n",
       "Pescado               1317\n",
       "Pasta                 1200\n",
       "Ensaladas              852\n",
       "Sopas y cremas         837\n",
       "Arroces y cereales     718\n",
       "Legumbres              473\n",
       "Name: Categoria, dtype: int64"
      ]
     },
     "execution_count": 25,
     "metadata": {},
     "output_type": "execute_result"
    }
   ],
   "source": [
    "recipes_df['Categoria'].value_counts()"
   ]
  },
  {
   "cell_type": "code",
   "execution_count": 32,
   "metadata": {},
   "outputs": [],
   "source": []
  },
  {
   "cell_type": "code",
   "execution_count": 33,
   "metadata": {},
   "outputs": [],
   "source": []
  },
  {
   "cell_type": "code",
   "execution_count": null,
   "metadata": {},
   "outputs": [],
   "source": []
  }
 ],
 "metadata": {
  "kernelspec": {
   "display_name": "Python [conda env:ironhack_env]",
   "language": "python",
   "name": "conda-env-ironhack_env-py"
  },
  "language_info": {
   "codemirror_mode": {
    "name": "ipython",
    "version": 3
   },
   "file_extension": ".py",
   "mimetype": "text/x-python",
   "name": "python",
   "nbconvert_exporter": "python",
   "pygments_lexer": "ipython3",
   "version": "3.7.8"
  }
 },
 "nbformat": 4,
 "nbformat_minor": 4
}
