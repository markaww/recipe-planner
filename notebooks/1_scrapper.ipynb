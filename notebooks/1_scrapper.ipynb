{
 "cells": [
  {
   "cell_type": "code",
   "execution_count": 1,
   "metadata": {},
   "outputs": [],
   "source": [
    "import bs4\n",
    "import requests"
   ]
  },
  {
   "cell_type": "code",
   "execution_count": 2,
   "metadata": {},
   "outputs": [],
   "source": [
    "cats = ['https://www.recetasgratis.net/Recetas-de-Arroces-cereales-listado_receta-9_',\n",
    "        'https://www.recetasgratis.net/Recetas-de-Aves-caza-listado_receta-11_',\n",
    "        'https://www.recetasgratis.net/Recetas-de-Carne-listado_receta-10_',\n",
    "        'https://www.recetasgratis.net/Recetas-de-Ensaladas-listado_receta-4_',\n",
    "        'https://www.recetasgratis.net/Recetas-de-Legumbres-listado_receta-8_',\n",
    "        'https://www.recetasgratis.net/Recetas-de-Pasta-listado_receta-5_',\n",
    "        'https://www.recetasgratis.net/Recetas-de-Pescado-listado_receta-12_',\n",
    "        'https://www.recetasgratis.net/Recetas-de-Sopa-listado_receta-6_',\n",
    "        'https://www.recetasgratis.net/Recetas-de-Verduras-listado_receta-7_']"
   ]
  },
  {
   "cell_type": "code",
   "execution_count": 3,
   "metadata": {},
   "outputs": [],
   "source": [
    "pages = [str(i) for i in range(1,51)]\n",
    "catpages_long = [(cat + page + '.html') for cat in cats for page in pages]\n"
   ]
  },
  {
   "cell_type": "code",
   "execution_count": null,
   "metadata": {},
   "outputs": [],
   "source": [
    "catpages_short = []\n",
    "\n",
    "for i in catpages_long:  \n",
    "    if len(requests.get(i).history) == 0:\n",
    "        catpages_short.append(i)\n",
    "    elif len(requests.get(i).history) > 0:\n",
    "        pass\n",
    "\n",
    "len(catpages_short)"
   ]
  },
  {
   "cell_type": "code",
   "execution_count": 80,
   "metadata": {},
   "outputs": [
    {
     "data": {
      "text/plain": [
       "10758"
      ]
     },
     "execution_count": 80,
     "metadata": {},
     "output_type": "execute_result"
    }
   ],
   "source": [
    "recipe_urls = []\n",
    "\n",
    "for page in catpages_short: \n",
    "    r = requests.get(page)\n",
    "    soup = bs4.BeautifulSoup(r.content, 'html.parser')\n",
    "    recipe = soup.find_all('a', attrs={'class': 'titulo titulo--resultado'})\n",
    "    for i in list(range(0,len(recipe))): \n",
    "        recipe_urls.append(recipe[i]['href'])\n",
    "        \n",
    "len(recipe_urls)  \n",
    "\n"
   ]
  },
  {
   "cell_type": "code",
   "execution_count": 79,
   "metadata": {},
   "outputs": [
    {
     "data": {
      "text/plain": [
       "74"
      ]
     },
     "execution_count": 79,
     "metadata": {},
     "output_type": "execute_result"
    }
   ],
   "source": [
    "catpages_test = ['https://www.recetasgratis.net/Recetas-de-Verduras-listado_receta-7_49.html',\n",
    "                 'https://www.recetasgratis.net/Recetas-de-Verduras-listado_receta-7_50.html']\n",
    "\n",
    "test_urls = []\n",
    "\n",
    "for page in catpages_test: \n",
    "    r = requests.get(page)\n",
    "    soup = bs4.BeautifulSoup(r.content, 'html.parser')\n",
    "    recipe = soup.find_all('a', attrs={'class': 'titulo titulo--resultado'})\n",
    "    for i in list(range(0,len(recipe))): \n",
    "        test_urls.append(recipe[i]['href'])\n",
    "        \n",
    "len(test_urls)   "
   ]
  },
  {
   "cell_type": "code",
   "execution_count": 78,
   "metadata": {},
   "outputs": [
    {
     "data": {
      "text/plain": [
       "40"
      ]
     },
     "execution_count": 78,
     "metadata": {},
     "output_type": "execute_result"
    }
   ],
   "source": [
    "test = 'https://www.recetasgratis.net/Recetas-de-Verduras-listado_receta-7_47.html'\n",
    "\n",
    "test_list = []\n",
    "\n",
    "r = requests.get(test)\n",
    "soup = bs4.BeautifulSoup(r.content, 'html.parser')\n",
    "recipe = soup.find_all('a', attrs={'class': 'titulo titulo--resultado'})\n",
    "\n",
    "\n",
    "for i in list(range(0,len(recipe))): \n",
    "    test_list.append(recipe[i]['href'])\n",
    "\n",
    "  \n",
    "\n",
    "len(test_list)\n"
   ]
  },
  {
   "cell_type": "code",
   "execution_count": null,
   "metadata": {},
   "outputs": [],
   "source": []
  },
  {
   "cell_type": "code",
   "execution_count": null,
   "metadata": {},
   "outputs": [],
   "source": [
    "soup.find_all('div', {'class': 'resultado link'}"
   ]
  },
  {
   "cell_type": "code",
   "execution_count": 39,
   "metadata": {},
   "outputs": [
    {
     "data": {
      "text/plain": [
       "'https://www.recetasgratis.net/receta-de-torrejas-de-arroz-75058.html'"
      ]
     },
     "execution_count": 39,
     "metadata": {},
     "output_type": "execute_result"
    }
   ],
   "source": [
    "url = 'https://www.recetasgratis.net/receta-de-torrejas-de-arroz-75058.html'\n",
    "r = requests.get(url)\n",
    "soup = bs4.BeautifulSoup(r.content, 'html.parser')\n",
    "r.url"
   ]
  },
  {
   "cell_type": "code",
   "execution_count": 43,
   "metadata": {},
   "outputs": [],
   "source": [
    "recipe = soup.find_all('div', attrs={'class': 'recipe-info'})\n"
   ]
  },
  {
   "cell_type": "code",
   "execution_count": 44,
   "metadata": {},
   "outputs": [],
   "source": [
    "comensales = recipe[0].find('span', attrs={'class': 'property comensales'}).text"
   ]
  },
  {
   "cell_type": "code",
   "execution_count": 30,
   "metadata": {},
   "outputs": [
    {
     "data": {
      "text/plain": [
       "[<Response [301]>]"
      ]
     },
     "execution_count": 30,
     "metadata": {},
     "output_type": "execute_result"
    }
   ],
   "source": [
    "if len(r.history) > 0\n",
    "pass"
   ]
  },
  {
   "cell_type": "code",
   "execution_count": null,
   "metadata": {},
   "outputs": [],
   "source": []
  }
 ],
 "metadata": {
  "kernelspec": {
   "display_name": "Python [conda env:ironhack_env]",
   "language": "python",
   "name": "conda-env-ironhack_env-py"
  },
  "language_info": {
   "codemirror_mode": {
    "name": "ipython",
    "version": 3
   },
   "file_extension": ".py",
   "mimetype": "text/x-python",
   "name": "python",
   "nbconvert_exporter": "python",
   "pygments_lexer": "ipython3",
   "version": "3.7.8"
  }
 },
 "nbformat": 4,
 "nbformat_minor": 4
}
