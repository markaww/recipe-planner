{
 "cells": [
  {
   "cell_type": "code",
   "execution_count": 5,
   "metadata": {},
   "outputs": [
    {
     "data": {
      "text/plain": [
       "{'comidas_semana': {'categoria': ['Pasta',\n",
       "   'Carne',\n",
       "   'Verduras',\n",
       "   'Legumbres',\n",
       "   'Arroces y cereales'],\n",
       "  'tiempo': ['30m', '45m', '10m', '15m']},\n",
       " 'comidas_finde': {'categoria': ['Verduras',\n",
       "   'Sopas y cremas',\n",
       "   'Aves y caza',\n",
       "   'Ensaladas',\n",
       "   'Pescado'],\n",
       "  'tiempo': ['30m',\n",
       "   '1h 30m',\n",
       "   '45m',\n",
       "   'NaN',\n",
       "   '2h 30m',\n",
       "   '24h',\n",
       "   '4h',\n",
       "   '3h',\n",
       "   '8h',\n",
       "   '6h']},\n",
       " 'cenas_semana': {'categoria': ['Arroces y cereales',\n",
       "   'Pasta',\n",
       "   'Carne',\n",
       "   'Verduras',\n",
       "   'Pescado',\n",
       "   'Legumbres'],\n",
       "  'tiempo': ['30m', '45m', '10m', '15m']},\n",
       " 'cenas_finde': {'categoria': ['Verduras',\n",
       "   'Sopas y cremas',\n",
       "   'Aves y caza',\n",
       "   'Ensaladas',\n",
       "   'Pescado'],\n",
       "  'tiempo': ['30m',\n",
       "   '1h 30m',\n",
       "   '45m',\n",
       "   'NaN',\n",
       "   '2h 30m',\n",
       "   '24h',\n",
       "   '4h',\n",
       "   '3h',\n",
       "   '8h',\n",
       "   '6h']}}"
      ]
     },
     "execution_count": 5,
     "metadata": {},
     "output_type": "execute_result"
    }
   ],
   "source": [
    "import json\n",
    "\n",
    "with open('../practice.json') as f: \n",
    "    preferences = json.load(f)\n",
    "\n",
    "preferences\n"
   ]
  }
 ],
 "metadata": {
  "kernelspec": {
   "display_name": "Python [conda env:ironhack_env]",
   "language": "python",
   "name": "conda-env-ironhack_env-py"
  },
  "language_info": {
   "codemirror_mode": {
    "name": "ipython",
    "version": 3
   },
   "file_extension": ".py",
   "mimetype": "text/x-python",
   "name": "python",
   "nbconvert_exporter": "python",
   "pygments_lexer": "ipython3",
   "version": "3.7.8"
  }
 },
 "nbformat": 4,
 "nbformat_minor": 4
}
